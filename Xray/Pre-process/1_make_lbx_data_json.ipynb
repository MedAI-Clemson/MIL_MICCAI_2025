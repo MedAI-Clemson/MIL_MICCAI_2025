{
 "cells": [
  {
   "cell_type": "code",
   "execution_count": 1,
   "id": "68ebd2d0-5686-498b-9945-236b020d5899",
   "metadata": {},
   "outputs": [],
   "source": [
    "from pathlib import Path\n",
    "import json\n",
    "import pandas as pd\n",
    "from PIL import Image"
   ]
  },
  {
   "cell_type": "code",
   "execution_count": 2,
   "id": "6e3eb258-425c-47fa-8257-ab56d033e38d",
   "metadata": {},
   "outputs": [],
   "source": [
    "wd = Path.cwd().parent\n",
    "data_dir = (wd / 'data/Rad_images').resolve()"
   ]
  },
  {
   "cell_type": "code",
   "execution_count": 3,
   "id": "a7574294-6a6e-4276-9f19-379e31652d58",
   "metadata": {},
   "outputs": [
    {
     "data": {
      "text/plain": [
       "PosixPath('/home/xiaofey/xray/xray-master/data/Rad_images')"
      ]
     },
     "execution_count": 3,
     "metadata": {},
     "output_type": "execute_result"
    }
   ],
   "source": [
    "data_dir"
   ]
  },
  {
   "cell_type": "code",
   "execution_count": 4,
   "id": "86129575-be88-402b-851c-450c8ac81891",
   "metadata": {},
   "outputs": [],
   "source": [
    "csv_nifti_path = (wd / 'data/nifti.csv').resolve().as_posix()\n",
    "jpg_export_path = (wd / 'data/exported_jpgs').resolve().as_posix()\n",
    "lbx_path = (wd / 'data/lbx_data.json').resolve().as_posix()"
   ]
  },
  {
   "cell_type": "code",
   "execution_count": 5,
   "id": "a9f02d3c-8252-4e7f-ba1b-0a4bedfe4c21",
   "metadata": {},
   "outputs": [],
   "source": [
    "df = pd.read_csv(csv_nifti_path)"
   ]
  },
  {
   "cell_type": "code",
   "execution_count": 6,
   "id": "1fd34334-54e6-4135-9fac-348ddf2e75a3",
   "metadata": {},
   "outputs": [
    {
     "data": {
      "text/html": [
       "<div>\n",
       "<style scoped>\n",
       "    .dataframe tbody tr th:only-of-type {\n",
       "        vertical-align: middle;\n",
       "    }\n",
       "\n",
       "    .dataframe tbody tr th {\n",
       "        vertical-align: top;\n",
       "    }\n",
       "\n",
       "    .dataframe thead th {\n",
       "        text-align: right;\n",
       "    }\n",
       "</style>\n",
       "<table border=\"1\" class=\"dataframe\">\n",
       "  <thead>\n",
       "    <tr style=\"text-align: right;\">\n",
       "      <th></th>\n",
       "      <th>PATIENT_ID</th>\n",
       "      <th>FULL_PATH</th>\n",
       "      <th>FILENAME_VIEW</th>\n",
       "      <th>MIN</th>\n",
       "      <th>MAX</th>\n",
       "      <th>DATA_TYPE</th>\n",
       "      <th>WIDTH</th>\n",
       "      <th>HEIGHT</th>\n",
       "      <th>NUM_CHANNELS</th>\n",
       "      <th>ROI</th>\n",
       "      <th>JPG_PATH</th>\n",
       "    </tr>\n",
       "  </thead>\n",
       "  <tbody>\n",
       "    <tr>\n",
       "      <th>0</th>\n",
       "      <td>AN00121</td>\n",
       "      <td>/zfs/wficai/xray/xray//Images/AN (121)/Shoulde...</td>\n",
       "      <td>Shoulder_L_1</td>\n",
       "      <td>0</td>\n",
       "      <td>32767</td>\n",
       "      <td>int16</td>\n",
       "      <td>2566</td>\n",
       "      <td>1779</td>\n",
       "      <td>1</td>\n",
       "      <td>False</td>\n",
       "      <td>/home/xiaofey/xray/xray-master/data/exported_j...</td>\n",
       "    </tr>\n",
       "    <tr>\n",
       "      <th>1</th>\n",
       "      <td>AN00121</td>\n",
       "      <td>/zfs/wficai/xray/xray//Images/AN (121)/Shoulde...</td>\n",
       "      <td>Shoulder_L_3_ROI1</td>\n",
       "      <td>0</td>\n",
       "      <td>1</td>\n",
       "      <td>uint8</td>\n",
       "      <td>1057</td>\n",
       "      <td>1605</td>\n",
       "      <td>1</td>\n",
       "      <td>True</td>\n",
       "      <td>/home/xiaofey/xray/xray-master/data/exported_j...</td>\n",
       "    </tr>\n",
       "    <tr>\n",
       "      <th>2</th>\n",
       "      <td>AN00121</td>\n",
       "      <td>/zfs/wficai/xray/xray//Images/AN (121)/Shoulde...</td>\n",
       "      <td>Shoulder_L_2</td>\n",
       "      <td>0</td>\n",
       "      <td>32767</td>\n",
       "      <td>int16</td>\n",
       "      <td>2153</td>\n",
       "      <td>1844</td>\n",
       "      <td>1</td>\n",
       "      <td>False</td>\n",
       "      <td>/home/xiaofey/xray/xray-master/data/exported_j...</td>\n",
       "    </tr>\n",
       "    <tr>\n",
       "      <th>3</th>\n",
       "      <td>AN00121</td>\n",
       "      <td>/zfs/wficai/xray/xray//Images/AN (121)/Shoulde...</td>\n",
       "      <td>Shoulder_L_3</td>\n",
       "      <td>0</td>\n",
       "      <td>29119</td>\n",
       "      <td>int16</td>\n",
       "      <td>1057</td>\n",
       "      <td>1605</td>\n",
       "      <td>1</td>\n",
       "      <td>False</td>\n",
       "      <td>/home/xiaofey/xray/xray-master/data/exported_j...</td>\n",
       "    </tr>\n",
       "    <tr>\n",
       "      <th>4</th>\n",
       "      <td>AN00308</td>\n",
       "      <td>/zfs/wficai/xray/xray//Images/AN (308)/Humerus...</td>\n",
       "      <td>Humerus_AP_1</td>\n",
       "      <td>0</td>\n",
       "      <td>4095</td>\n",
       "      <td>int16</td>\n",
       "      <td>3240</td>\n",
       "      <td>2774</td>\n",
       "      <td>1</td>\n",
       "      <td>False</td>\n",
       "      <td>/home/xiaofey/xray/xray-master/data/exported_j...</td>\n",
       "    </tr>\n",
       "    <tr>\n",
       "      <th>...</th>\n",
       "      <td>...</td>\n",
       "      <td>...</td>\n",
       "      <td>...</td>\n",
       "      <td>...</td>\n",
       "      <td>...</td>\n",
       "      <td>...</td>\n",
       "      <td>...</td>\n",
       "      <td>...</td>\n",
       "      <td>...</td>\n",
       "      <td>...</td>\n",
       "      <td>...</td>\n",
       "    </tr>\n",
       "    <tr>\n",
       "      <th>1379</th>\n",
       "      <td>AN00135</td>\n",
       "      <td>/zfs/wficai/xray/xray//Images/AN (135)/Shoulde...</td>\n",
       "      <td>Shoulder_Y_view_3</td>\n",
       "      <td>0</td>\n",
       "      <td>1023</td>\n",
       "      <td>int16</td>\n",
       "      <td>2518</td>\n",
       "      <td>3001</td>\n",
       "      <td>1</td>\n",
       "      <td>False</td>\n",
       "      <td>/home/xiaofey/xray/xray-master/data/exported_j...</td>\n",
       "    </tr>\n",
       "    <tr>\n",
       "      <th>1380</th>\n",
       "      <td>AN00176</td>\n",
       "      <td>/zfs/wficai/xray/xray//Images/AN (176)/AP_5.nii</td>\n",
       "      <td>AP_5</td>\n",
       "      <td>371</td>\n",
       "      <td>4095</td>\n",
       "      <td>int16</td>\n",
       "      <td>1769</td>\n",
       "      <td>2079</td>\n",
       "      <td>1</td>\n",
       "      <td>False</td>\n",
       "      <td>/home/xiaofey/xray/xray-master/data/exported_j...</td>\n",
       "    </tr>\n",
       "    <tr>\n",
       "      <th>1381</th>\n",
       "      <td>AN00176</td>\n",
       "      <td>/zfs/wficai/xray/xray//Images/AN (176)/AXIAL_3...</td>\n",
       "      <td>AXIAL_3</td>\n",
       "      <td>749</td>\n",
       "      <td>4095</td>\n",
       "      <td>int16</td>\n",
       "      <td>1863</td>\n",
       "      <td>1546</td>\n",
       "      <td>1</td>\n",
       "      <td>False</td>\n",
       "      <td>/home/xiaofey/xray/xray-master/data/exported_j...</td>\n",
       "    </tr>\n",
       "    <tr>\n",
       "      <th>1382</th>\n",
       "      <td>AN00176</td>\n",
       "      <td>/zfs/wficai/xray/xray//Images/AN (176)/AP_INT_...</td>\n",
       "      <td>AP_INT_ROT_1</td>\n",
       "      <td>482</td>\n",
       "      <td>4095</td>\n",
       "      <td>int16</td>\n",
       "      <td>1870</td>\n",
       "      <td>1755</td>\n",
       "      <td>1</td>\n",
       "      <td>False</td>\n",
       "      <td>/home/xiaofey/xray/xray-master/data/exported_j...</td>\n",
       "    </tr>\n",
       "    <tr>\n",
       "      <th>1383</th>\n",
       "      <td>AN00176</td>\n",
       "      <td>/zfs/wficai/xray/xray//Images/AN (176)/AP_EXT_...</td>\n",
       "      <td>AP_EXT_ROT_2</td>\n",
       "      <td>0</td>\n",
       "      <td>4095</td>\n",
       "      <td>int16</td>\n",
       "      <td>1928</td>\n",
       "      <td>1625</td>\n",
       "      <td>1</td>\n",
       "      <td>False</td>\n",
       "      <td>/home/xiaofey/xray/xray-master/data/exported_j...</td>\n",
       "    </tr>\n",
       "  </tbody>\n",
       "</table>\n",
       "<p>1384 rows × 11 columns</p>\n",
       "</div>"
      ],
      "text/plain": [
       "     PATIENT_ID                                          FULL_PATH  \\\n",
       "0       AN00121  /zfs/wficai/xray/xray//Images/AN (121)/Shoulde...   \n",
       "1       AN00121  /zfs/wficai/xray/xray//Images/AN (121)/Shoulde...   \n",
       "2       AN00121  /zfs/wficai/xray/xray//Images/AN (121)/Shoulde...   \n",
       "3       AN00121  /zfs/wficai/xray/xray//Images/AN (121)/Shoulde...   \n",
       "4       AN00308  /zfs/wficai/xray/xray//Images/AN (308)/Humerus...   \n",
       "...         ...                                                ...   \n",
       "1379    AN00135  /zfs/wficai/xray/xray//Images/AN (135)/Shoulde...   \n",
       "1380    AN00176    /zfs/wficai/xray/xray//Images/AN (176)/AP_5.nii   \n",
       "1381    AN00176  /zfs/wficai/xray/xray//Images/AN (176)/AXIAL_3...   \n",
       "1382    AN00176  /zfs/wficai/xray/xray//Images/AN (176)/AP_INT_...   \n",
       "1383    AN00176  /zfs/wficai/xray/xray//Images/AN (176)/AP_EXT_...   \n",
       "\n",
       "          FILENAME_VIEW  MIN    MAX DATA_TYPE  WIDTH  HEIGHT  NUM_CHANNELS  \\\n",
       "0          Shoulder_L_1    0  32767     int16   2566    1779             1   \n",
       "1     Shoulder_L_3_ROI1    0      1     uint8   1057    1605             1   \n",
       "2          Shoulder_L_2    0  32767     int16   2153    1844             1   \n",
       "3          Shoulder_L_3    0  29119     int16   1057    1605             1   \n",
       "4          Humerus_AP_1    0   4095     int16   3240    2774             1   \n",
       "...                 ...  ...    ...       ...    ...     ...           ...   \n",
       "1379  Shoulder_Y_view_3    0   1023     int16   2518    3001             1   \n",
       "1380               AP_5  371   4095     int16   1769    2079             1   \n",
       "1381            AXIAL_3  749   4095     int16   1863    1546             1   \n",
       "1382       AP_INT_ROT_1  482   4095     int16   1870    1755             1   \n",
       "1383       AP_EXT_ROT_2    0   4095     int16   1928    1625             1   \n",
       "\n",
       "        ROI                                           JPG_PATH  \n",
       "0     False  /home/xiaofey/xray/xray-master/data/exported_j...  \n",
       "1      True  /home/xiaofey/xray/xray-master/data/exported_j...  \n",
       "2     False  /home/xiaofey/xray/xray-master/data/exported_j...  \n",
       "3     False  /home/xiaofey/xray/xray-master/data/exported_j...  \n",
       "4     False  /home/xiaofey/xray/xray-master/data/exported_j...  \n",
       "...     ...                                                ...  \n",
       "1379  False  /home/xiaofey/xray/xray-master/data/exported_j...  \n",
       "1380  False  /home/xiaofey/xray/xray-master/data/exported_j...  \n",
       "1381  False  /home/xiaofey/xray/xray-master/data/exported_j...  \n",
       "1382  False  /home/xiaofey/xray/xray-master/data/exported_j...  \n",
       "1383  False  /home/xiaofey/xray/xray-master/data/exported_j...  \n",
       "\n",
       "[1384 rows x 11 columns]"
      ]
     },
     "execution_count": 6,
     "metadata": {},
     "output_type": "execute_result"
    }
   ],
   "source": [
    "df"
   ]
  },
  {
   "cell_type": "markdown",
   "id": "c873818e-9fd7-4907-9656-1067cb05a449",
   "metadata": {},
   "source": [
    "# Create data json for labelbox"
   ]
  },
  {
   "cell_type": "code",
   "execution_count": 7,
   "id": "a163607a-3a9f-443d-9572-1edaf844638b",
   "metadata": {},
   "outputs": [
    {
     "data": {
      "text/plain": [
       "{'externalId': 'AN00121_Shoulder_L_1',\n",
       " 'imageUrl': 'https://fast-videos.s3.us-east-2.amazonaws.com/phf/cobra_prelim_set/AN00121_Shoulder_L_1.jpg'}"
      ]
     },
     "execution_count": 7,
     "metadata": {},
     "output_type": "execute_result"
    }
   ],
   "source": [
    "def create_record(row):\n",
    "    filename = row['JPG_PATH'].split('/')[-1]\n",
    "\n",
    "    record = dict(\n",
    "        externalId = filename[:-4],\n",
    "        imageUrl = f\"https://fast-videos.s3.us-east-2.amazonaws.com/phf/cobra_prelim_set/{filename}\"\n",
    "    )\n",
    "    \n",
    "    return record\n",
    "    \n",
    "create_record(next(df.iterrows())[1])"
   ]
  },
  {
   "cell_type": "code",
   "execution_count": 8,
   "id": "980518d8-7c0b-45ff-bd54-ff2aa807f1eb",
   "metadata": {},
   "outputs": [
    {
     "name": "stdout",
     "output_type": "stream",
     "text": [
      "Index(['PATIENT_ID', 'FULL_PATH', 'FILENAME_VIEW', 'MIN', 'MAX', 'DATA_TYPE',\n",
      "       'WIDTH', 'HEIGHT', 'NUM_CHANNELS', 'ROI', 'JPG_PATH'],\n",
      "      dtype='object')\n"
     ]
    }
   ],
   "source": [
    "print(df.columns)"
   ]
  },
  {
   "cell_type": "code",
   "execution_count": 8,
   "id": "06455f9f-9f06-499d-9ee8-f3a415ddfbdc",
   "metadata": {},
   "outputs": [
    {
     "data": {
      "text/plain": [
       "0       False\n",
       "1        True\n",
       "2       False\n",
       "3       False\n",
       "4       False\n",
       "        ...  \n",
       "1379    False\n",
       "1380    False\n",
       "1381    False\n",
       "1382    False\n",
       "1383    False\n",
       "Name: ROI, Length: 1384, dtype: bool"
      ]
     },
     "execution_count": 8,
     "metadata": {},
     "output_type": "execute_result"
    }
   ],
   "source": [
    "df['ROI']"
   ]
  },
  {
   "cell_type": "code",
   "execution_count": 9,
   "id": "3da53250-cbf1-438d-b600-9943803fbdbd",
   "metadata": {},
   "outputs": [],
   "source": [
    "records = []\n",
    "for ix, row in df.iterrows():\n",
    "    # if not row['ROI'] and row['is_valid']:\n",
    "    if not row['ROI']: \n",
    "        records.append(create_record(row))"
   ]
  },
  {
   "cell_type": "code",
   "execution_count": 10,
   "id": "7f04cdeb-befe-4236-a887-d6901f6ead65",
   "metadata": {},
   "outputs": [
    {
     "data": {
      "text/plain": [
       "[{'externalId': 'AN00121_Shoulder_L_1',\n",
       "  'imageUrl': 'https://fast-videos.s3.us-east-2.amazonaws.com/phf/cobra_prelim_set/AN00121_Shoulder_L_1.jpg'},\n",
       " {'externalId': 'AN00121_Shoulder_L_2',\n",
       "  'imageUrl': 'https://fast-videos.s3.us-east-2.amazonaws.com/phf/cobra_prelim_set/AN00121_Shoulder_L_2.jpg'},\n",
       " {'externalId': 'AN00121_Shoulder_L_3',\n",
       "  'imageUrl': 'https://fast-videos.s3.us-east-2.amazonaws.com/phf/cobra_prelim_set/AN00121_Shoulder_L_3.jpg'},\n",
       " {'externalId': 'AN00308_Humerus_AP_1',\n",
       "  'imageUrl': 'https://fast-videos.s3.us-east-2.amazonaws.com/phf/cobra_prelim_set/AN00308_Humerus_AP_1.jpg'},\n",
       " {'externalId': 'AN00308_Humerus_LAT_3',\n",
       "  'imageUrl': 'https://fast-videos.s3.us-east-2.amazonaws.com/phf/cobra_prelim_set/AN00308_Humerus_LAT_3.jpg'}]"
      ]
     },
     "execution_count": 10,
     "metadata": {},
     "output_type": "execute_result"
    }
   ],
   "source": [
    "records[:5]"
   ]
  },
  {
   "cell_type": "code",
   "execution_count": 11,
   "id": "aa46cef2-6257-4215-88ce-064481e1d71a",
   "metadata": {},
   "outputs": [
    {
     "data": {
      "text/plain": [
       "1146"
      ]
     },
     "execution_count": 11,
     "metadata": {},
     "output_type": "execute_result"
    }
   ],
   "source": [
    "len(records)"
   ]
  },
  {
   "cell_type": "code",
   "execution_count": 12,
   "id": "ca384ee5-bfb0-4ce0-8e78-2ab9295dade9",
   "metadata": {},
   "outputs": [],
   "source": [
    "with open(lbx_path, 'w') as f:\n",
    "    json.dump(records, f)"
   ]
  },
  {
   "cell_type": "code",
   "execution_count": null,
   "id": "d2c98876-229d-4a92-b51d-16771eee3b57",
   "metadata": {},
   "outputs": [],
   "source": []
  }
 ],
 "metadata": {
  "kernelspec": {
   "display_name": "Python 3",
   "language": "python",
   "name": "python3"
  },
  "language_info": {
   "codemirror_mode": {
    "name": "ipython",
    "version": 3
   },
   "file_extension": ".py",
   "mimetype": "text/x-python",
   "name": "python",
   "nbconvert_exporter": "python",
   "pygments_lexer": "ipython3",
   "version": "3.11.5"
  }
 },
 "nbformat": 4,
 "nbformat_minor": 5
}
